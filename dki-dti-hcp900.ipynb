{
 "cells": [
  {
   "cell_type": "code",
   "execution_count": 1,
   "metadata": {
    "collapsed": false
   },
   "outputs": [
    {
     "name": "stdout",
     "output_type": "stream",
     "text": [
      "Dataset is already in place. If you want to fetch it again please first remove the folder /root/AFQ_data/templates \n"
     ]
    }
   ],
   "source": [
    "import AFQ.tractography as aft\n",
    "import AFQ.registration as reg\n",
    "import AFQ.data as afd\n",
    "\n",
    "import tempfile\n",
    "import numpy as np\n",
    "import nibabel as nib\n",
    "import boto3\n",
    "import os\n",
    "import os.path as op\n",
    "import AFQ.registration as reg"
   ]
  },
  {
   "cell_type": "code",
   "execution_count": 2,
   "metadata": {
    "collapsed": true
   },
   "outputs": [],
   "source": [
    "import numpy as np"
   ]
  },
  {
   "cell_type": "code",
   "execution_count": 3,
   "metadata": {
    "collapsed": false
   },
   "outputs": [],
   "source": [
    "import dipy.reconst.dti as dti\n",
    "import dipy.reconst.dki as dki\n",
    "import dipy.core.gradients as dpg\n",
    "import dipy.reconst.cross_validation as xval"
   ]
  },
  {
   "cell_type": "code",
   "execution_count": 4,
   "metadata": {
    "collapsed": true
   },
   "outputs": [],
   "source": [
    "import nibabel as nib"
   ]
  },
  {
   "cell_type": "code",
   "execution_count": 5,
   "metadata": {
    "collapsed": true
   },
   "outputs": [],
   "source": [
    "# Replace with a loop over subjects:\n",
    "subject = '992774'"
   ]
  },
  {
   "cell_type": "code",
   "execution_count": 6,
   "metadata": {
    "collapsed": false
   },
   "outputs": [],
   "source": [
    "def setup_boto():\n",
    "    boto3.setup_default_session(profile_name='hcp')\n",
    "    s3 = boto3.resource('s3')\n",
    "    bucket = s3.Bucket('hcp-openaccess')\n",
    "    return bucket"
   ]
  },
  {
   "cell_type": "code",
   "execution_count": 7,
   "metadata": {
    "collapsed": true
   },
   "outputs": [],
   "source": [
    "def save_wm_mask(subject):\n",
    "    bucket = setup_boto()\n",
    "    with tempfile.TemporaryDirectory() as temp_dir:\n",
    "        dwi_file = op.join(temp_dir, 'data.nii.gz')\n",
    "        seg_file = op.join(temp_dir, 'aparc+aseg.nii.gz')\n",
    "        data_files = {}\n",
    "        data_files[dwi_file] = \\\n",
    "            'HCP/%s/T1w/Diffusion/data.nii.gz' % subject\n",
    "        data_files[seg_file] = \\\n",
    "            'HCP/%s/T1w/aparc+aseg.nii.gz' % subject\n",
    "        for k in data_files.keys():\n",
    "            if not op.exists(k):\n",
    "                bucket.download_file(data_files[k], k)\n",
    "\n",
    "        seg_img = nib.load(seg_file)\n",
    "        dwi_img = nib.load(dwi_file)\n",
    "        seg_data_orig = seg_img.get_data()\n",
    "        # Corpus callosum labels:\n",
    "        cc_mask = ((seg_data_orig==251) | \n",
    "                   (seg_data_orig==252) |\n",
    "                   (seg_data_orig==253) |\n",
    "                   (seg_data_orig==254) |\n",
    "                   (seg_data_orig==255))\n",
    "\n",
    "        # Cerebral white matter in both hemispheres + corpus callosum\n",
    "        wm_mask = (seg_data_orig==41) | (seg_data_orig==2) | (cc_mask)\n",
    "        dwi_data = dwi_img.get_data()\n",
    "        resamp_wm = np.round(reg.resample(wm_mask, dwi_data[..., 0], seg_img.affine, dwi_img.affine)).astype(int)\n",
    "        wm_file = op.join(temp_dir, 'wm.nii.gz')\n",
    "        nib.save(nib.Nifti1Image(resamp_wm.astype(int), dwi_img.affine), wm_file) \n",
    "        boto3.setup_default_session(profile_name='cirrus')\n",
    "        s3 = boto3.resource('s3')\n",
    "        s3.meta.client.upload_file(wm_file, \n",
    "                                   'hcp-dki', \n",
    "                                   '%s/%s_white_matter_mask.nii.gz'%(subject, subject))\n",
    "\n",
    "    return (subject, data_files)"
   ]
  },
  {
   "cell_type": "code",
   "execution_count": 8,
   "metadata": {
    "collapsed": false
   },
   "outputs": [],
   "source": [
    "#save_wm_mask(subject)"
   ]
  },
  {
   "cell_type": "code",
   "execution_count": 9,
   "metadata": {
    "collapsed": true
   },
   "outputs": [],
   "source": [
    "def calc_cod(model, data, mask=None, folds=5):\n",
    "    pred = xval.kfold_xval(model, data, folds, mask=mask)\n",
    "    cod = xval.coeff_of_determination(pred, data)\n",
    "    return cod"
   ]
  },
  {
   "cell_type": "code",
   "execution_count": 22,
   "metadata": {
    "collapsed": true
   },
   "outputs": [],
   "source": [
    "def compare_models(subject):\n",
    "    bucket = setup_boto()\n",
    "    with tempfile.TemporaryDirectory() as temp_dir:\n",
    "        dwi_file = op.join(temp_dir, 'data.nii.gz')\n",
    "        bvec_file = op.join(temp_dir, 'data.bvec')\n",
    "        bval_file = op.join(temp_dir, 'data.bval')\n",
    "\n",
    "        data_files = {}\n",
    "        \n",
    "        data_files[dwi_file] = \\\n",
    "            'HCP/%s/T1w/Diffusion/data.nii.gz' % subject\n",
    "        data_files[bvec_file] = \\\n",
    "            'HCP/%s/T1w/Diffusion/bvecs' % subject\n",
    "        data_files[bval_file] = \\\n",
    "            'HCP/%s/T1w/Diffusion/bvals' % subject\n",
    "            \n",
    "        for k in data_files.keys():\n",
    "            if not op.exists(k):\n",
    "                bucket.download_file(data_files[k], k)\n",
    "        dwi_img = nib.load(dwi_file)\n",
    "        data = dwi_img.get_data()\n",
    "        gtab = dpg.gradient_table(bval_file, bvec_file, b0_threshold=10)\n",
    "        boto3.setup_default_session(profile_name='cirrus')\n",
    "        s3 = boto3.resource('s3')\n",
    "        for model_object, method in zip([dti.TensorModel, dki.DiffusionKurtosisModel],\n",
    "                                        ['dti', 'dki']):\n",
    "            \n",
    "            print(\"1\")\n",
    "            model = model_object(gtab)\n",
    "            print(\"2\")\n",
    "            cod = calc_cod(model, data) \n",
    "            print(\"3\")\n",
    "            cod_file = op.join(temp_dir, 'cod_%s.nii.gz'%method)\n",
    "            print(\"3\")\n",
    "            nib.save(nib.Nifti1Image(cod, dwi_img.affine), cod_file)\n",
    "            print(\"4\")\n",
    "            s3.meta.client.upload_file(cod_file, \n",
    "                                       'hcp-dki', \n",
    "                                       '%s/%s_cod_%s.nii.gz'%(subject, subject, method))\n",
    "\n",
    "        \n",
    "        "
   ]
  },
  {
   "cell_type": "code",
   "execution_count": 23,
   "metadata": {
    "collapsed": true
   },
   "outputs": [],
   "source": [
    "import time"
   ]
  },
  {
   "cell_type": "code",
   "execution_count": 24,
   "metadata": {
    "collapsed": false
   },
   "outputs": [
    {
     "name": "stdout",
     "output_type": "stream",
     "text": [
      "1\n",
      "2\n"
     ]
    },
    {
     "ename": "MemoryError",
     "evalue": "",
     "output_type": "error",
     "traceback": [
      "\u001b[0;31m---------------------------------------------------------------------------\u001b[0m",
      "\u001b[0;31mMemoryError\u001b[0m                               Traceback (most recent call last)",
      "\u001b[0;32m<ipython-input-24-de448f83224f>\u001b[0m in \u001b[0;36m<module>\u001b[0;34m()\u001b[0m\n\u001b[1;32m      1\u001b[0m \u001b[0mt1\u001b[0m \u001b[0;34m=\u001b[0m \u001b[0mtime\u001b[0m\u001b[0;34m.\u001b[0m\u001b[0mtime\u001b[0m\u001b[0;34m(\u001b[0m\u001b[0;34m)\u001b[0m\u001b[0;34m\u001b[0m\u001b[0m\n\u001b[0;32m----> 2\u001b[0;31m \u001b[0mcompare_models\u001b[0m\u001b[0;34m(\u001b[0m\u001b[0msubject\u001b[0m\u001b[0;34m)\u001b[0m\u001b[0;34m\u001b[0m\u001b[0m\n\u001b[0m\u001b[1;32m      3\u001b[0m \u001b[0mt2\u001b[0m \u001b[0;34m=\u001b[0m \u001b[0mtime\u001b[0m\u001b[0;34m.\u001b[0m\u001b[0mtime\u001b[0m\u001b[0;34m(\u001b[0m\u001b[0;34m)\u001b[0m\u001b[0;34m\u001b[0m\u001b[0m\n\u001b[1;32m      4\u001b[0m \u001b[0mdelta_t\u001b[0m \u001b[0;34m=\u001b[0m \u001b[0mt2\u001b[0m \u001b[0;34m-\u001b[0m \u001b[0mt1\u001b[0m\u001b[0;34m\u001b[0m\u001b[0m\n",
      "\u001b[0;32m<ipython-input-22-20e153e7ecfd>\u001b[0m in \u001b[0;36mcompare_models\u001b[0;34m(subject)\u001b[0m\n\u001b[1;32m     26\u001b[0m             \u001b[0mmodel\u001b[0m \u001b[0;34m=\u001b[0m \u001b[0mmodel_object\u001b[0m\u001b[0;34m(\u001b[0m\u001b[0mgtab\u001b[0m\u001b[0;34m)\u001b[0m\u001b[0;34m\u001b[0m\u001b[0m\n\u001b[1;32m     27\u001b[0m             \u001b[0mprint\u001b[0m\u001b[0;34m(\u001b[0m\u001b[0;34m\"2\"\u001b[0m\u001b[0;34m)\u001b[0m\u001b[0;34m\u001b[0m\u001b[0m\n\u001b[0;32m---> 28\u001b[0;31m             \u001b[0mcod\u001b[0m \u001b[0;34m=\u001b[0m \u001b[0mcalc_cod\u001b[0m\u001b[0;34m(\u001b[0m\u001b[0mmodel\u001b[0m\u001b[0;34m,\u001b[0m \u001b[0mdata\u001b[0m\u001b[0;34m)\u001b[0m\u001b[0;34m\u001b[0m\u001b[0m\n\u001b[0m\u001b[1;32m     29\u001b[0m             \u001b[0mprint\u001b[0m\u001b[0;34m(\u001b[0m\u001b[0;34m\"3\"\u001b[0m\u001b[0;34m)\u001b[0m\u001b[0;34m\u001b[0m\u001b[0m\n\u001b[1;32m     30\u001b[0m             \u001b[0mcod_file\u001b[0m \u001b[0;34m=\u001b[0m \u001b[0mop\u001b[0m\u001b[0;34m.\u001b[0m\u001b[0mjoin\u001b[0m\u001b[0;34m(\u001b[0m\u001b[0mtemp_dir\u001b[0m\u001b[0;34m,\u001b[0m \u001b[0;34m'cod_%s.nii.gz'\u001b[0m\u001b[0;34m%\u001b[0m\u001b[0mmethod\u001b[0m\u001b[0;34m)\u001b[0m\u001b[0;34m\u001b[0m\u001b[0m\n",
      "\u001b[0;32m<ipython-input-9-79e0a1d752fb>\u001b[0m in \u001b[0;36mcalc_cod\u001b[0;34m(model, data, mask, folds)\u001b[0m\n\u001b[1;32m      1\u001b[0m \u001b[0;32mdef\u001b[0m \u001b[0mcalc_cod\u001b[0m\u001b[0;34m(\u001b[0m\u001b[0mmodel\u001b[0m\u001b[0;34m,\u001b[0m \u001b[0mdata\u001b[0m\u001b[0;34m,\u001b[0m \u001b[0mmask\u001b[0m\u001b[0;34m=\u001b[0m\u001b[0;32mNone\u001b[0m\u001b[0;34m,\u001b[0m \u001b[0mfolds\u001b[0m\u001b[0;34m=\u001b[0m\u001b[0;36m5\u001b[0m\u001b[0;34m)\u001b[0m\u001b[0;34m:\u001b[0m\u001b[0;34m\u001b[0m\u001b[0m\n\u001b[0;32m----> 2\u001b[0;31m     \u001b[0mpred\u001b[0m \u001b[0;34m=\u001b[0m \u001b[0mxval\u001b[0m\u001b[0;34m.\u001b[0m\u001b[0mkfold_xval\u001b[0m\u001b[0;34m(\u001b[0m\u001b[0mmodel\u001b[0m\u001b[0;34m,\u001b[0m \u001b[0mdata\u001b[0m\u001b[0;34m,\u001b[0m \u001b[0mfolds\u001b[0m\u001b[0;34m,\u001b[0m \u001b[0mmask\u001b[0m\u001b[0;34m=\u001b[0m\u001b[0mmask\u001b[0m\u001b[0;34m)\u001b[0m\u001b[0;34m\u001b[0m\u001b[0m\n\u001b[0m\u001b[1;32m      3\u001b[0m     \u001b[0mcod\u001b[0m \u001b[0;34m=\u001b[0m \u001b[0mxval\u001b[0m\u001b[0;34m.\u001b[0m\u001b[0mcoeff_of_determination\u001b[0m\u001b[0;34m(\u001b[0m\u001b[0mpred\u001b[0m\u001b[0;34m,\u001b[0m \u001b[0mdata\u001b[0m\u001b[0;34m)\u001b[0m\u001b[0;34m\u001b[0m\u001b[0m\n\u001b[1;32m      4\u001b[0m     \u001b[0;32mreturn\u001b[0m \u001b[0mcod\u001b[0m\u001b[0;34m\u001b[0m\u001b[0m\n",
      "\u001b[0;32m/root/miniconda3/lib/python3.5/site-packages/dipy/reconst/cross_validation.py\u001b[0m in \u001b[0;36mkfold_xval\u001b[0;34m(model, data, folds, *model_args, **model_kwargs)\u001b[0m\n\u001b[1;32m    141\u001b[0m                                              nz_bvec[~fold_mask]]))\n\u001b[1;32m    142\u001b[0m         \u001b[0mthis_model\u001b[0m \u001b[0;34m=\u001b[0m \u001b[0mmodel\u001b[0m\u001b[0;34m.\u001b[0m\u001b[0m__class__\u001b[0m\u001b[0;34m(\u001b[0m\u001b[0mthis_gtab\u001b[0m\u001b[0;34m,\u001b[0m \u001b[0;34m*\u001b[0m\u001b[0mmodel_args\u001b[0m\u001b[0;34m,\u001b[0m \u001b[0;34m**\u001b[0m\u001b[0mmodel_kwargs\u001b[0m\u001b[0;34m)\u001b[0m\u001b[0;34m\u001b[0m\u001b[0m\n\u001b[0;32m--> 143\u001b[0;31m         \u001b[0mthis_fit\u001b[0m \u001b[0;34m=\u001b[0m \u001b[0mthis_model\u001b[0m\u001b[0;34m.\u001b[0m\u001b[0mfit\u001b[0m\u001b[0;34m(\u001b[0m\u001b[0mthis_data\u001b[0m\u001b[0;34m,\u001b[0m \u001b[0mmask\u001b[0m\u001b[0;34m=\u001b[0m\u001b[0mmask\u001b[0m\u001b[0;34m)\u001b[0m\u001b[0;34m\u001b[0m\u001b[0m\n\u001b[0m\u001b[1;32m    144\u001b[0m         \u001b[0;32mif\u001b[0m \u001b[0;32mnot\u001b[0m \u001b[0mhasattr\u001b[0m\u001b[0;34m(\u001b[0m\u001b[0mthis_fit\u001b[0m\u001b[0;34m,\u001b[0m \u001b[0;34m'predict'\u001b[0m\u001b[0;34m)\u001b[0m\u001b[0;34m:\u001b[0m\u001b[0;34m\u001b[0m\u001b[0m\n\u001b[1;32m    145\u001b[0m             \u001b[0merr_str\u001b[0m \u001b[0;34m=\u001b[0m \u001b[0;34m\"Models of type: %s \"\u001b[0m \u001b[0;34m%\u001b[0m \u001b[0mthis_model\u001b[0m\u001b[0;34m.\u001b[0m\u001b[0m__class__\u001b[0m\u001b[0;34m\u001b[0m\u001b[0m\n",
      "\u001b[0;32m/root/miniconda3/lib/python3.5/site-packages/dipy/reconst/dti.py\u001b[0m in \u001b[0;36mfit\u001b[0;34m(self, data, mask)\u001b[0m\n\u001b[1;32m    791\u001b[0m \u001b[0;34m\u001b[0m\u001b[0m\n\u001b[1;32m    792\u001b[0m         \u001b[0;32mif\u001b[0m \u001b[0mself\u001b[0m\u001b[0;34m.\u001b[0m\u001b[0mmin_signal\u001b[0m \u001b[0;32mis\u001b[0m \u001b[0;32mNone\u001b[0m\u001b[0;34m:\u001b[0m\u001b[0;34m\u001b[0m\u001b[0m\n\u001b[0;32m--> 793\u001b[0;31m             \u001b[0mmin_signal\u001b[0m \u001b[0;34m=\u001b[0m \u001b[0m_min_positive_signal\u001b[0m\u001b[0;34m(\u001b[0m\u001b[0mdata\u001b[0m\u001b[0;34m)\u001b[0m\u001b[0;34m\u001b[0m\u001b[0m\n\u001b[0m\u001b[1;32m    794\u001b[0m         \u001b[0;32melse\u001b[0m\u001b[0;34m:\u001b[0m\u001b[0;34m\u001b[0m\u001b[0m\n\u001b[1;32m    795\u001b[0m             \u001b[0mmin_signal\u001b[0m \u001b[0;34m=\u001b[0m \u001b[0mself\u001b[0m\u001b[0;34m.\u001b[0m\u001b[0mmin_signal\u001b[0m\u001b[0;34m\u001b[0m\u001b[0m\n",
      "\u001b[0;32m/root/miniconda3/lib/python3.5/site-packages/dipy/reconst/dti.py\u001b[0m in \u001b[0;36m_min_positive_signal\u001b[0;34m(data)\u001b[0m\n\u001b[1;32m     69\u001b[0m         \u001b[0;32mreturn\u001b[0m \u001b[0;36m0.0001\u001b[0m\u001b[0;34m\u001b[0m\u001b[0m\n\u001b[1;32m     70\u001b[0m     \u001b[0;32melse\u001b[0m\u001b[0;34m:\u001b[0m\u001b[0;34m\u001b[0m\u001b[0m\n\u001b[0;32m---> 71\u001b[0;31m         \u001b[0;32mreturn\u001b[0m \u001b[0mdata\u001b[0m\u001b[0;34m[\u001b[0m\u001b[0mdata\u001b[0m \u001b[0;34m>\u001b[0m \u001b[0;36m0\u001b[0m\u001b[0;34m]\u001b[0m\u001b[0;34m.\u001b[0m\u001b[0mmin\u001b[0m\u001b[0;34m(\u001b[0m\u001b[0;34m)\u001b[0m\u001b[0;34m\u001b[0m\u001b[0m\n\u001b[0m\u001b[1;32m     72\u001b[0m \u001b[0;34m\u001b[0m\u001b[0m\n\u001b[1;32m     73\u001b[0m \u001b[0;34m\u001b[0m\u001b[0m\n",
      "\u001b[0;31mMemoryError\u001b[0m: "
     ]
    }
   ],
   "source": [
    "t1 = time.time()\n",
    "compare_models(subject)\n",
    "t2 = time.time()\n",
    "delta_t = t2 - t1"
   ]
  },
  {
   "cell_type": "code",
   "execution_count": null,
   "metadata": {
    "collapsed": true
   },
   "outputs": [],
   "source": [
    "print(delta_t)"
   ]
  }
 ],
 "metadata": {
  "kernelspec": {
   "display_name": "Python [conda root]",
   "language": "python",
   "name": "conda-root-py"
  },
  "language_info": {
   "codemirror_mode": {
    "name": "ipython",
    "version": 3
   },
   "file_extension": ".py",
   "mimetype": "text/x-python",
   "name": "python",
   "nbconvert_exporter": "python",
   "pygments_lexer": "ipython3",
   "version": "3.5.2"
  }
 },
 "nbformat": 4,
 "nbformat_minor": 0
}
