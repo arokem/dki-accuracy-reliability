{
 "cells": [
  {
   "cell_type": "code",
   "execution_count": 1,
   "metadata": {
    "collapsed": false
   },
   "outputs": [
    {
     "name": "stdout",
     "output_type": "stream",
     "text": [
      "Dataset is already in place. If you want to fetch it again please first remove the folder /root/AFQ_data/templates \n"
     ]
    }
   ],
   "source": [
    "import AFQ.tractography as aft\n",
    "import AFQ.registration as reg\n",
    "import AFQ.data as afd\n",
    "\n",
    "import tempfile\n",
    "import numpy as np\n",
    "import nibabel as nib\n",
    "import boto3\n",
    "import os\n",
    "import os.path as op\n",
    "import AFQ.registration as reg"
   ]
  },
  {
   "cell_type": "code",
   "execution_count": 2,
   "metadata": {
    "collapsed": true
   },
   "outputs": [],
   "source": [
    "import numpy as np"
   ]
  },
  {
   "cell_type": "code",
   "execution_count": 3,
   "metadata": {
    "collapsed": false
   },
   "outputs": [],
   "source": [
    "import dipy.reconst.dti as dti\n",
    "import dipy.reconst.dki as dki\n",
    "import dipy.core.gradients as dpg\n",
    "import dipy.reconst.cross_validation as xval"
   ]
  },
  {
   "cell_type": "code",
   "execution_count": 4,
   "metadata": {
    "collapsed": true
   },
   "outputs": [],
   "source": [
    "import nibabel as nib"
   ]
  },
  {
   "cell_type": "code",
   "execution_count": 5,
   "metadata": {
    "collapsed": true
   },
   "outputs": [],
   "source": [
    "# Replace with a loop over subjects:\n",
    "subject = '992774'"
   ]
  },
  {
   "cell_type": "code",
   "execution_count": 6,
   "metadata": {
    "collapsed": false
   },
   "outputs": [],
   "source": [
    "def setup_boto():\n",
    "    boto3.setup_default_session(profile_name='hcp')\n",
    "    s3 = boto3.resource('s3')\n",
    "    bucket = s3.Bucket('hcp-openaccess')\n",
    "    return bucket"
   ]
  },
  {
   "cell_type": "code",
   "execution_count": 7,
   "metadata": {
    "collapsed": true
   },
   "outputs": [],
   "source": [
    "def save_wm_mask(subject):\n",
    "    bucket = setup_boto()\n",
    "    with tempfile.TemporaryDirectory() as temp_dir:\n",
    "        dwi_file = op.join(temp_dir, 'data.nii.gz')\n",
    "        seg_file = op.join(temp_dir, 'aparc+aseg.nii.gz')\n",
    "        data_files = {}\n",
    "        data_files[dwi_file] = \\\n",
    "            'HCP/%s/T1w/Diffusion/data.nii.gz' % subject\n",
    "        data_files[seg_file] = \\\n",
    "            'HCP/%s/T1w/aparc+aseg.nii.gz' % subject\n",
    "        for k in data_files.keys():\n",
    "            if not op.exists(k):\n",
    "                bucket.download_file(data_files[k], k)\n",
    "\n",
    "        seg_img = nib.load(seg_file)\n",
    "        dwi_img = nib.load(dwi_file)\n",
    "        seg_data_orig = seg_img.get_data()\n",
    "        # Corpus callosum labels:\n",
    "        cc_mask = ((seg_data_orig==251) | \n",
    "                   (seg_data_orig==252) |\n",
    "                   (seg_data_orig==253) |\n",
    "                   (seg_data_orig==254) |\n",
    "                   (seg_data_orig==255))\n",
    "\n",
    "        # Cerebral white matter in both hemispheres + corpus callosum\n",
    "        wm_mask = (seg_data_orig==41) | (seg_data_orig==2) | (cc_mask)\n",
    "        dwi_data = dwi_img.get_data()\n",
    "        resamp_wm = np.round(reg.resample(wm_mask, dwi_data[..., 0], seg_img.affine, dwi_img.affine)).astype(int)\n",
    "        wm_file = op.join(temp_dir, 'wm.nii.gz')\n",
    "        nib.save(nib.Nifti1Image(resamp_wm.astype(int), dwi_img.affine), wm_file) \n",
    "        boto3.setup_default_session(profile_name='cirrus')\n",
    "        s3 = boto3.resource('s3')\n",
    "        s3.meta.client.upload_file(wm_file, \n",
    "                                   'hcp-dki', \n",
    "                                   '%s/%s_white_matter_mask.nii.gz'%(subject, subject))\n",
    "\n",
    "    return (subject, data_files)"
   ]
  },
  {
   "cell_type": "code",
   "execution_count": 8,
   "metadata": {
    "collapsed": false
   },
   "outputs": [],
   "source": [
    "#save_wm_mask(subject)"
   ]
  },
  {
   "cell_type": "code",
   "execution_count": null,
   "metadata": {
    "collapsed": true
   },
   "outputs": [],
   "source": []
  },
  {
   "cell_type": "code",
   "execution_count": null,
   "metadata": {
    "collapsed": true
   },
   "outputs": [],
   "source": []
  },
  {
   "cell_type": "code",
   "execution_count": 9,
   "metadata": {
    "collapsed": true
   },
   "outputs": [],
   "source": [
    "def compare_models(subject):\n",
    "    bucket = setup_boto()\n",
    "    with tempfile.TemporaryDirectory() as temp_dir:\n",
    "        dwi_file = op.join(temp_dir, 'data.nii.gz')\n",
    "        bvec_file = op.join(temp_dir, 'data.bvec')\n",
    "        bval_file = op.join(temp_dir, 'data.bval')\n",
    "\n",
    "        data_files = {}\n",
    "        \n",
    "        data_files[dwi_file] = \\\n",
    "            'HCP/%s/T1w/Diffusion/data.nii.gz' % subject\n",
    "        data_files[bvec_file] = \\\n",
    "            'HCP/%s/T1w/Diffusion/bvecs' % subject\n",
    "        data_files[bval_file] = \\\n",
    "            'HCP/%s/T1w/Diffusion/bvals' % subject\n",
    "        for k in data_files.keys():\n",
    "            if not op.exists(k):\n",
    "                bucket.download_file(data_files[k], k)\n",
    "\n",
    "        wm_file = op.join(temp_dir, 'wm.nii.gz')\n",
    "        boto3.setup_default_session(profile_name='cirrus')\n",
    "        s3 = boto3.resource('s3')\n",
    "        s3.meta.client.download_file('hcp-dki', '%s/%s_white_matter_mask.nii.gz'%(subject, subject), wm_file)\n",
    "        wm_mask = nib.load(wm_file).get_data().astype(bool)\n",
    "        dwi_img = nib.load(dwi_file)\n",
    "        data = dwi_img.get_data()\n",
    "        gtab = dpg.gradient_table(bval_file, bvec_file, b0_threshold=10)\n",
    "        for model_object, method in zip([dti.TensorModel, dki.DiffusionKurtosisModel],\n",
    "                                        ['dti', 'dki']):\n",
    "            \n",
    "            print(\"1\")\n",
    "            model = model_object(gtab)\n",
    "            print(\"2\")\n",
    "            if method == 'dti':\n",
    "                pred = xval.kfold_xval(model, data, 5, mask=wm_mask, step=1000000)\n",
    "            else: \n",
    "                pred = xval.kfold_xval(model, data, 5, mask=wm_mask)\n",
    "\n",
    "            print(\"3\")\n",
    "            cod = xval.coeff_of_determination(pred, data)\n",
    "            cod_file = op.join(temp_dir, 'cod_%s.nii.gz'%method)\n",
    "            print(\"4\")\n",
    "            nib.save(nib.Nifti1Image(cod, dwi_img.affine), cod_file)\n",
    "            print(\"5\")\n",
    "            s3.meta.client.upload_file(cod_file, \n",
    "                                       'hcp-dki', \n",
    "                                       '%s/%s_cod_%s.nii.gz'%(subject, subject, method))\n",
    "\n",
    "        \n",
    "        "
   ]
  },
  {
   "cell_type": "code",
   "execution_count": 10,
   "metadata": {
    "collapsed": true
   },
   "outputs": [],
   "source": [
    "import time"
   ]
  },
  {
   "cell_type": "code",
   "execution_count": 11,
   "metadata": {
    "collapsed": false
   },
   "outputs": [
    {
     "name": "stdout",
     "output_type": "stream",
     "text": [
      "1\n",
      "2\n",
      "3\n"
     ]
    },
    {
     "name": "stderr",
     "output_type": "stream",
     "text": [
      "/root/miniconda3/lib/python3.5/site-packages/dipy/reconst/cross_validation.py:57: RuntimeWarning: divide by zero encountered in true_divide\n",
      "  return 100 * (1 - (ss_err/ss_tot))\n",
      "/root/miniconda3/lib/python3.5/site-packages/dipy/reconst/cross_validation.py:57: RuntimeWarning: invalid value encountered in true_divide\n",
      "  return 100 * (1 - (ss_err/ss_tot))\n"
     ]
    },
    {
     "name": "stdout",
     "output_type": "stream",
     "text": [
      "4\n",
      "4\n",
      "1\n",
      "2\n",
      "3\n",
      "4\n",
      "4\n"
     ]
    }
   ],
   "source": [
    "t1 = time.time()\n",
    "compare_models(subject)\n",
    "t2 = time.time()\n",
    "delta_t = t2 - t1"
   ]
  },
  {
   "cell_type": "code",
   "execution_count": 13,
   "metadata": {
    "collapsed": false
   },
   "outputs": [
    {
     "data": {
      "text/plain": [
       "28.674468151728313"
      ]
     },
     "execution_count": 13,
     "metadata": {},
     "output_type": "execute_result"
    }
   ],
   "source": [
    "delta_t / 60"
   ]
  },
  {
   "cell_type": "code",
   "execution_count": null,
   "metadata": {
    "collapsed": true
   },
   "outputs": [],
   "source": []
  }
 ],
 "metadata": {
  "anaconda-cloud": {},
  "kernelspec": {
   "display_name": "Python [conda root]",
   "language": "python",
   "name": "conda-root-py"
  },
  "language_info": {
   "codemirror_mode": {
    "name": "ipython",
    "version": 3
   },
   "file_extension": ".py",
   "mimetype": "text/x-python",
   "name": "python",
   "nbconvert_exporter": "python",
   "pygments_lexer": "ipython3",
   "version": "3.5.2"
  }
 },
 "nbformat": 4,
 "nbformat_minor": 0
}
