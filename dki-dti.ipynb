{
 "cells": [
  {
   "cell_type": "code",
   "execution_count": 1,
   "metadata": {
    "collapsed": true
   },
   "outputs": [],
   "source": [
    "import numpy as np\n",
    "import matplotlib.pyplot as plt\n",
    "plt.switch_backend('agg')\n",
    "%matplotlib inline"
   ]
  },
  {
   "cell_type": "code",
   "execution_count": 2,
   "metadata": {
    "collapsed": false
   },
   "outputs": [],
   "source": [
    "import dipy.reconst.dti as dti\n",
    "import dipy.reconst.dki as dki\n",
    "import dipy.reconst.cross_validation as xval\n",
    "import dipy.core.gradients as dpg\n",
    "from dipy.segment.mask import median_otsu"
   ]
  },
  {
   "cell_type": "code",
   "execution_count": 3,
   "metadata": {
    "collapsed": true
   },
   "outputs": [],
   "source": [
    "import nibabel as nib"
   ]
  },
  {
   "cell_type": "code",
   "execution_count": 4,
   "metadata": {
    "collapsed": false
   },
   "outputs": [],
   "source": [
    "import tools\n",
    "import imp\n",
    "imp.reload(tools)\n",
    "from tools import resample_volume"
   ]
  },
  {
   "cell_type": "code",
   "execution_count": null,
   "metadata": {
    "collapsed": true
   },
   "outputs": [],
   "source": []
  },
  {
   "cell_type": "code",
   "execution_count": 5,
   "metadata": {
    "collapsed": false
   },
   "outputs": [],
   "source": [
    "dwi_img = nib.load('/home/ubuntu/data/991267/sess/dwi/dwi.nii.gz')\n",
    "gtab = dpg.gradient_table('/home/ubuntu/data/991267/sess/dwi/dwi.bvals', \n",
    "                          '/home/ubuntu/data/991267/sess/dwi/dwi.bvecs',\n",
    "                          b0_threshold=10)"
   ]
  },
  {
   "cell_type": "code",
   "execution_count": 6,
   "metadata": {
    "collapsed": false
   },
   "outputs": [],
   "source": [
    "data = dwi_img.get_data()"
   ]
  },
  {
   "cell_type": "code",
   "execution_count": 7,
   "metadata": {
    "collapsed": true
   },
   "outputs": [],
   "source": [
    "t1_img = nib.load('/home/ubuntu/data/991267/sess/anat/T1w_acpc_dc.nii.gz')\n",
    "label_img = nib.load('/home/ubuntu/data/991267/sess/anat/aparc+aseg.nii.gz')"
   ]
  },
  {
   "cell_type": "code",
   "execution_count": 8,
   "metadata": {
    "collapsed": false
   },
   "outputs": [],
   "source": [
    "resamp_t1 = resample_volume(t1_img, dwi_img)\n",
    "resamp_label = resample_volume(label_img, dwi_img)"
   ]
  },
  {
   "cell_type": "code",
   "execution_count": 9,
   "metadata": {
    "collapsed": false
   },
   "outputs": [
    {
     "data": {
      "text/plain": [
       "((145, 174, 145), (145, 174, 145), (145, 174, 145, 288))"
      ]
     },
     "execution_count": 9,
     "metadata": {},
     "output_type": "execute_result"
    }
   ],
   "source": [
    "resamp_label.shape, resamp_t1.shape, dwi_img.shape"
   ]
  },
  {
   "cell_type": "code",
   "execution_count": 10,
   "metadata": {
    "collapsed": false
   },
   "outputs": [],
   "source": [
    "t1_data = resamp_t1.get_data()\n",
    "label_data = resamp_label.get_data()"
   ]
  },
  {
   "cell_type": "code",
   "execution_count": 11,
   "metadata": {
    "collapsed": false
   },
   "outputs": [],
   "source": [
    "# Cerebral white matter in both hemispheres + corpus callosum\n",
    "wm_mask = (label_data==41) | (label_data==2) | (label_data==86)"
   ]
  },
  {
   "cell_type": "code",
   "execution_count": 12,
   "metadata": {
    "collapsed": true
   },
   "outputs": [],
   "source": [
    "dki_model = dki.DiffusionKurtosisModel(gtab)\n",
    "dti_model = dti.TensorModel(gtab)"
   ]
  },
  {
   "cell_type": "code",
   "execution_count": 13,
   "metadata": {
    "collapsed": true
   },
   "outputs": [],
   "source": [
    "def calc_cod(model, data, mask, folds=2):\n",
    "    pred = xval.kfold_xval(model, data, folds, mask=mask)\n",
    "    cod = xval.coeff_of_determination(pred, data)\n",
    "    return cod"
   ]
  },
  {
   "cell_type": "code",
   "execution_count": 15,
   "metadata": {
    "collapsed": false
   },
   "outputs": [
    {
     "name": "stderr",
     "output_type": "stream",
     "text": [
      "/home/ubuntu/source/dipy/dipy/reconst/cross_validation.py:57: RuntimeWarning: divide by zero encountered in true_divide\n",
      "  return 100 * (1 - (ss_err/ss_tot))\n",
      "/home/ubuntu/source/dipy/dipy/reconst/cross_validation.py:57: RuntimeWarning: invalid value encountered in true_divide\n",
      "  return 100 * (1 - (ss_err/ss_tot))\n"
     ]
    }
   ],
   "source": [
    "cod_dki = calc_cod(dki_model, data, wm_mask) \n",
    "cod_dti = calc_cod(dti_model, data, wm_mask)"
   ]
  },
  {
   "cell_type": "code",
   "execution_count": 16,
   "metadata": {
    "collapsed": false
   },
   "outputs": [
    {
     "data": {
      "text/plain": [
       "(-15, 15)"
      ]
     },
     "execution_count": 16,
     "metadata": {},
     "output_type": "execute_result"
    },
    {
     "data": {
      "image/png": "[encoded data removed]",
      "text/plain": [
       "<matplotlib.figure.Figure at 0x7f8b096c0048>"
      ]
     },
     "metadata": {},
     "output_type": "display_data"
    }
   ],
   "source": [
    "plt.hist(cod_dti[np.isfinite(cod_dki)] - cod_dki[np.isfinite(cod_dki)], bins=1000)\n",
    "plt.xlim([-15, 15])"
   ]
  },
  {
   "cell_type": "code",
   "execution_count": 23,
   "metadata": {
    "collapsed": false
   },
   "outputs": [
    {
     "data": {
      "text/plain": [
       "<matplotlib.text.Text at 0x7f8a00cf7908>"
      ]
     },
     "execution_count": 23,
     "metadata": {},
     "output_type": "execute_result"
    },
    {
     "data": {
      "image/png": "[encoded data removed]",
      "text/plain": [
       "<matplotlib.figure.Figure at 0x7f8a00d26ef0>"
      ]
     },
     "metadata": {},
     "output_type": "display_data"
    }
   ],
   "source": [
    "plt.plot(cod_dti[np.isfinite(cod_dki)], cod_dki[np.isfinite(cod_dki)], '.', alpha=0.01)\n",
    "plt.xlim([0, 100])\n",
    "plt.ylim([0, 100])\n",
    "plt.plot([0, 100], [0, 100], 'k--')\n",
    "plt.xlabel(\"COD (DTI)\")\n",
    "plt.ylabel(\"COD (DKI)\")"
   ]
  },
  {
   "cell_type": "code",
   "execution_count": null,
   "metadata": {
    "collapsed": true
   },
   "outputs": [],
   "source": []
  }
 ],
 "metadata": {
  "kernelspec": {
   "display_name": "Python 3",
   "language": "python",
   "name": "python3"
  },
  "language_info": {
   "codemirror_mode": {
    "name": "ipython",
    "version": 3
   },
   "file_extension": ".py",
   "mimetype": "text/x-python",
   "name": "python",
   "nbconvert_exporter": "python",
   "pygments_lexer": "ipython3",
   "version": "3.5.1"
  }
 },
 "nbformat": 4,
 "nbformat_minor": 0
}
