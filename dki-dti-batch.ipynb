{
 "cells": [
  {
   "cell_type": "code",
   "execution_count": 1,
   "metadata": {
    "collapsed": true
   },
   "outputs": [],
   "source": [
    "import numpy as np\n",
    "import matplotlib.pyplot as plt\n",
    "plt.switch_backend('agg')\n",
    "%matplotlib inline"
   ]
  },
  {
   "cell_type": "code",
   "execution_count": 2,
   "metadata": {},
   "outputs": [],
   "source": [
    "import dipy.reconst.dti as dti\n",
    "import dipy.reconst.dki as dki\n",
    "import dipy.reconst.cross_validation as xval\n",
    "import dipy.core.gradients as dpg"
   ]
  },
  {
   "cell_type": "code",
   "execution_count": 3,
   "metadata": {
    "collapsed": true
   },
   "outputs": [],
   "source": [
    "import nibabel as nib"
   ]
  },
  {
   "cell_type": "code",
   "execution_count": 4,
   "metadata": {},
   "outputs": [],
   "source": [
    "import tools\n",
    "import imp\n",
    "imp.reload(tools)\n",
    "from tools import resample_volume"
   ]
  },
  {
   "cell_type": "code",
   "execution_count": 15,
   "metadata": {
    "collapsed": true
   },
   "outputs": [],
   "source": [
    "def calc_cod(model, data, mask=None, folds=5):\n",
    "    pred = xval.kfold_xval(model, data, folds, mask=mask)\n",
    "    cod = xval.coeff_of_determination(pred, data)\n",
    "    return cod"
   ]
  },
  {
   "cell_type": "code",
   "execution_count": null,
   "metadata": {
    "collapsed": true
   },
   "outputs": [],
   "source": [
    "# Replace with a loop over subjects:\n",
    "subject = '991267'"
   ]
  },
  {
   "cell_type": "code",
   "execution_count": null,
   "metadata": {
    "collapsed": true
   },
   "outputs": [],
   "source": [
    "label_img = nib.load('/home/ubuntu/data/%s/sess/anat/aparc+aseg.nii.gz'%subject)\n",
    "resamp_label = resample_volume(label_img, dwi_img)\n",
    "label_data = resamp_label.get_data()\n",
    "# Cerebral white matter in both hemispheres + corpus callosum\n",
    "wm_mask = (label_data==41) | (label_data==2) | (label_data==86)"
   ]
  },
  {
   "cell_type": "code",
   "execution_count": 5,
   "metadata": {},
   "outputs": [],
   "source": [
    "dwi_img = nib.load('/home/ubuntu/data/%s/sess/dwi/dwi.nii.gz'%subject)\n",
    "gtab = dpg.gradient_table('/home/ubuntu/data/%s/sess/dwi/dwi.bvals'%subject, \n",
    "                          '/home/ubuntu/data/%s/sess/dwi/dwi.bvecs'%subject,\n",
    "                          b0_threshold=10)"
   ]
  },
  {
   "cell_type": "code",
   "execution_count": null,
   "metadata": {
    "collapsed": true
   },
   "outputs": [],
   "source": [
    "# Save WM mask upfront, and don't worry about using it for now\n",
    "label_img = nib.load('/home/ubuntu/data/%s/sess/anat/aparc+aseg.nii.gz'%subject)\n",
    "resamp_label = resample_volume(label_img, dwi_img)\n",
    "label_data = resamp_label.get_data()\n",
    "# Cerebral white matter in both hemispheres + corpus callosum\n",
    "wm_mask = (label_data==41) | (label_data==2) | (label_data==86)\n",
    "nib.save(nib.Nifti1Image(wm_mask.astype(int), dwi_img.affine), 'Subject_%s_white_matter_mask.nii.gz'%subject)"
   ]
  },
  {
   "cell_type": "code",
   "execution_count": 6,
   "metadata": {},
   "outputs": [],
   "source": [
    "data = dwi_img.get_data()"
   ]
  },
  {
   "cell_type": "code",
   "execution_count": 14,
   "metadata": {
    "collapsed": true
   },
   "outputs": [],
   "source": [
    "dki_model = dki.DiffusionKurtosisModel(gtab)\n",
    "dti_model = dti.TensorModel(gtab)"
   ]
  },
  {
   "cell_type": "code",
   "execution_count": 16,
   "metadata": {},
   "outputs": [
    {
     "name": "stderr",
     "output_type": "stream",
     "text": [
      "/home/ubuntu/source/dipy/dipy/reconst/cross_validation.py:57: RuntimeWarning: divide by zero encountered in true_divide\n",
      "  return 100 * (1 - (ss_err/ss_tot))\n",
      "/home/ubuntu/source/dipy/dipy/reconst/cross_validation.py:57: RuntimeWarning: invalid value encountered in true_divide\n",
      "  return 100 * (1 - (ss_err/ss_tot))\n"
     ]
    }
   ],
   "source": [
    "cod_dki = calc_cod(dki_model, data) \n",
    "cod_dti = calc_cod(dti_model, data)"
   ]
  },
  {
   "cell_type": "code",
   "execution_count": null,
   "metadata": {
    "collapsed": true
   },
   "outputs": [],
   "source": [
    "nib.save(nib.Nifti1Image(cod_dki, dwi_img.affine), 'Subject_%s_dki_COD.nii.gz'%subject)\n",
    "nib.save(nib.Nifti1Image(cod_dti, dwi_img.affine), 'Subject_%s_dti_COD.nii.gz'%subject)"
   ]
  },
  {
   "cell_type": "code",
   "execution_count": 20,
   "metadata": {
    "collapsed": true
   },
   "outputs": [],
   "source": [
    "dki_fit = dki_model.fit(data)\n",
    "dti_fit = dti_model.fit(data)"
   ]
  },
  {
   "cell_type": "code",
   "execution_count": null,
   "metadata": {
    "collapsed": true
   },
   "outputs": [],
   "source": [
    "nib.save(nib.Nifti1Image(dki_fit.model_params, dwi_img.affine), 'Subject_%s_dki_model_params.nii.gz'%subject)\n",
    "nib.save(nib.Nifti1Image(dti_fit.model_params, dwi_img.affine), 'Subject_%s_dti_model_params.nii.gz'%subject)"
   ]
  },
  {
   "cell_type": "code",
   "execution_count": null,
   "metadata": {
    "collapsed": true
   },
   "outputs": [],
   "source": [
    "nib.save(nib.Nifti1Image(dki_fit.fa, dwi_img.affine), 'Subject_%s_dki_FA.nii.gz'%subject)\n",
    "nib.save(nib.Nifti1Image(dti_fit.fa, dwi_img.affine), 'Subject_%s_dti_FA.nii.gz'%subject)"
   ]
  },
  {
   "cell_type": "code",
   "execution_count": null,
   "metadata": {
    "collapsed": true
   },
   "outputs": [],
   "source": [
    "nib.save(nib.Nifti1Image(dki_fit.md, dwi_img.affine), 'Subject_%s_dki_MD.nii.gz'%subject)\n",
    "nib.save(nib.Nifti1Image(dti_fit.md, dwi_img.affine), 'Subject_%s_dti_MD.nii.gz'%subject)"
   ]
  },
  {
   "cell_type": "code",
   "execution_count": null,
   "metadata": {
    "collapsed": true
   },
   "outputs": [],
   "source": [
    "nib.save(nib.Nifti1Image(dki_fit.mk(), dwi_img.affine), 'Subject_%s_dki_MK.nii.gz'%subject)\n",
    "nib.save(nib.Nifti1Image(dti_fit.rk(), dwi_img.affine), 'Subject_%s_dti_RK.nii.gz'%subject)\n",
    "nib.save(nib.Nifti1Image(dti_fit.ak(), dwi_img.affine), 'Subject_%s_dti_AK.nii.gz'%subject)"
   ]
  },
  {
   "cell_type": "code",
   "execution_count": 26,
   "metadata": {},
   "outputs": [],
   "source": [
    "idx1000 = (gtab.bvals < 1100) | (gtab.bvals <= 5)\n",
    "idx2000 = ((gtab.bvals > 1100) & (gtab.bvals < 2100 )) | (gtab.bvals <= 5)\n",
    "idx3000 = (gtab.bvals > 2100) | (gtab.bvals <= 5)"
   ]
  },
  {
   "cell_type": "code",
   "execution_count": 27,
   "metadata": {},
   "outputs": [],
   "source": [
    "data1000 = data[..., idx1000]\n",
    "data2000 = data[..., idx2000]\n",
    "data3000 = data[..., idx3000]\n",
    "data1000_2000 = data[..., idx1000 + idx2000]\n",
    "data1000_3000 = data[..., idx1000 + idx3000]\n",
    "data2000_3000 = data[..., idx2000 + idx3000]"
   ]
  },
  {
   "cell_type": "code",
   "execution_count": 28,
   "metadata": {
    "collapsed": true
   },
   "outputs": [],
   "source": [
    "gtab1000 = dpg.gradient_table(gtab.bvals[idx1000], gtab.bvecs[idx1000], b0_threshold=5)\n",
    "gtab2000 = dpg.gradient_table(gtab.bvals[idx1000], gtab.bvecs[idx1000], b0_threshold=5)\n",
    "gtab3000 = dpg.gradient_table(gtab.bvals[idx1000], gtab.bvecs[idx1000], b0_threshold=5)\n",
    "gtab1000_2000 = dpg.gradient_table(gtab.bvals[idx1000 + idx2000], gtab.bvecs[idx1000 + idx2000], b0_threshold=5)\n",
    "gtab1000_3000 = dpg.gradient_table(gtab.bvals[idx1000 + idx3000], gtab.bvecs[idx1000 + idx3000], b0_threshold=5)\n",
    "gtab2000_3000 = dpg.gradient_table(gtab.bvals[idx2000 + idx3000], gtab.bvecs[idx2000 + idx3000], b0_threshold=5)"
   ]
  },
  {
   "cell_type": "code",
   "execution_count": 29,
   "metadata": {},
   "outputs": [],
   "source": [
    "dti_model1000 = dti.TensorModel(gtab1000)\n",
    "dti_model2000 = dti.TensorModel(gtab2000)\n",
    "dti_model3000 = dti.TensorModel(gtab3000)\n",
    "dti_model1000_2000 = dti.TensorModel(gtab1000_2000)\n",
    "dti_model1000_3000 = dti.TensorModel(gtab1000_3000)\n",
    "dti_model2000_3000 = dti.TensorModel(gtab2000_3000)"
   ]
  },
  {
   "cell_type": "code",
   "execution_count": 30,
   "metadata": {},
   "outputs": [],
   "source": [
    "dti_fit1000 = dti_model1000.fit(data1000, mask=wm_mask)\n",
    "dti_fit2000 = dti_model2000.fit(data2000, mask=wm_mask)\n",
    "dti_fit3000 = dti_model3000.fit(data3000, mask=wm_mask)\n",
    "dti_fit1000_2000 = dti_model1000_2000.fit(data1000_2000, mask=wm_mask)\n",
    "dti_fit1000_3000 = dti_model1000_3000.fit(data1000_3000, mask=wm_mask)\n",
    "dti_fit2000_3000 = dti_model2000_3000.fit(data2000_3000, mask=wm_mask)"
   ]
  },
  {
   "cell_type": "code",
   "execution_count": null,
   "metadata": {
    "collapsed": true
   },
   "outputs": [],
   "source": [
    "nib.save(nib.Nifti1Image(dti_fit1000.fa, dwi_img.affine), 'Subject_%s_dti_1000_FA.nii.gz'%subject)\n",
    "nib.save(nib.Nifti1Image(dti_fit2000.fa, dwi_img.affine), 'Subject_%s_dti_2000_FA.nii.gz'%subject)\n",
    "nib.save(nib.Nifti1Image(dti_fit3000.fa, dwi_img.affine), 'Subject_%s_dti_3000_FA.nii.gz'%subject)\n",
    "\n",
    "nib.save(nib.Nifti1Image(dti_fit1000_2000.fa, dwi_img.affine), 'Subject_%s_dti_1000_2000_FA.nii.gz'%subject)\n",
    "nib.save(nib.Nifti1Image(dti_fit2000_3000.fa, dwi_img.affine), 'Subject_%s_dti_2000_3000_FA.nii.gz'%subject)\n",
    "nib.save(nib.Nifti1Image(dti_fit1000_3000.fa, dwi_img.affine), 'Subject_%s_dti_1000_3000_FA.nii.gz'%subject)"
   ]
  },
  {
   "cell_type": "code",
   "execution_count": null,
   "metadata": {
    "collapsed": true
   },
   "outputs": [],
   "source": [
    "nib.save(nib.Nifti1Image(dti_fit1000.md, dwi_img.affine), 'Subject_%s_dti_1000_MD.nii.gz'%subject)\n",
    "nib.save(nib.Nifti1Image(dti_fit2000.md, dwi_img.affine), 'Subject_%s_dti_2000_MD.nii.gz'%subject)\n",
    "nib.save(nib.Nifti1Image(dti_fit3000.md, dwi_img.affine), 'Subject_%s_dti_3000_MD.nii.gz'%subject)\n",
    "\n",
    "nib.save(nib.Nifti1Image(dti_fit1000_2000.md, dwi_img.affine), 'Subject_%s_dti_1000_2000_MD.nii.gz'%subject)\n",
    "nib.save(nib.Nifti1Image(dti_fit2000_3000.md, dwi_img.affine), 'Subject_%s_dti_2000_3000_MD.nii.gz'%subject)\n",
    "nib.save(nib.Nifti1Image(dti_fit1000_3000.md, dwi_img.affine), 'Subject_%s_dti_1000_3000_MD.nii.gz'%subject)"
   ]
  },
  {
   "cell_type": "code",
   "execution_count": 33,
   "metadata": {
    "collapsed": true
   },
   "outputs": [],
   "source": [
    "dki_model1000_2000 = dki.DiffusionKurtosisModel(gtab1000_2000)\n",
    "dki_model1000_3000 = dki.DiffusionKurtosisModel(gtab1000_3000)\n",
    "dki_model2000_3000 = dki.DiffusionKurtosisModel(gtab2000_3000)"
   ]
  },
  {
   "cell_type": "code",
   "execution_count": 34,
   "metadata": {
    "collapsed": true
   },
   "outputs": [],
   "source": [
    "dki_fit1000_2000 = dki_model1000_2000.fit(data1000_2000)\n",
    "dki_fit1000_3000 = dki_model1000_3000.fit(data1000_3000)\n",
    "dki_fit2000_3000 = dki_model2000_3000.fit(data2000_3000)"
   ]
  },
  {
   "cell_type": "code",
   "execution_count": null,
   "metadata": {
    "collapsed": true
   },
   "outputs": [],
   "source": [
    "nib.save(nib.Nifti1Image(dki_fit1000_2000.fa, dwi_img.affine), 'Subject_%s_dki_1000_2000_FA.nii.gz'%subject)\n",
    "nib.save(nib.Nifti1Image(dki_fit2000_3000.fa, dwi_img.affine), 'Subject_%s_dki_2000_3000_FA.nii.gz'%subject)\n",
    "nib.save(nib.Nifti1Image(dki_fit1000_3000.fa, dwi_img.affine), 'Subject_%s_dki_1000_3000_FA.nii.gz'%subject)"
   ]
  },
  {
   "cell_type": "code",
   "execution_count": null,
   "metadata": {
    "collapsed": true
   },
   "outputs": [],
   "source": [
    "nib.save(nib.Nifti1Image(dki_fit1000_2000.md, dwi_img.affine), 'Subject_%s_dki_1000_2000_MD.nii.gz'%subject)\n",
    "nib.save(nib.Nifti1Image(dki_fit2000_3000.md, dwi_img.affine), 'Subject_%s_dki_2000_3000_MD.nii.gz'%subject)\n",
    "nib.save(nib.Nifti1Image(dki_fit1000_3000.md, dwi_img.affine), 'Subject_%s_dki_1000_3000_MD.nii.gz'%subject)"
   ]
  },
  {
   "cell_type": "code",
   "execution_count": null,
   "metadata": {
    "collapsed": true
   },
   "outputs": [],
   "source": [
    "nib.save(nib.Nifti1Image(dki_fit1000_2000.mk(), dwi_img.affine), 'Subject_%s_dki_1000_2000_MK.nii.gz'%subject)\n",
    "nib.save(nib.Nifti1Image(dki_fit2000_3000.mk(), dwi_img.affine), 'Subject_%s_dki_2000_3000_MK.nii.gz'%subject)\n",
    "nib.save(nib.Nifti1Image(dki_fit1000_3000.mk(), dwi_img.affine), 'Subject_%s_dki_1000_3000_MK.nii.gz'%subject)"
   ]
  },
  {
   "cell_type": "code",
   "execution_count": null,
   "metadata": {
    "collapsed": true
   },
   "outputs": [],
   "source": []
  }
 ],
 "metadata": {
  "anaconda-cloud": {},
  "kernelspec": {
   "display_name": "Python 3",
   "language": "python",
   "name": "python3"
  },
  "language_info": {
   "codemirror_mode": {
    "name": "ipython",
    "version": 3
   },
   "file_extension": ".py",
   "mimetype": "text/x-python",
   "name": "python",
   "nbconvert_exporter": "python",
   "pygments_lexer": "ipython3",
   "version": "3.7.0"
  }
 },
 "nbformat": 4,
 "nbformat_minor": 1
}
